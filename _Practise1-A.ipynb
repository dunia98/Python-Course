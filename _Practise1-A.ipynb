{
 "cells": [
  {
   "cell_type": "code",
   "execution_count": 13,
   "metadata": {},
   "outputs": [
    {
     "name": "stdout",
     "output_type": "stream",
     "text": [
      "enter your name :dunia\n",
      "enter first number :2\n",
      "enter second number :3\n",
      "Hi Mr/Mrs  dunia\n",
      "The sum of  2 and  3 is: 5\n",
      "The sub of 2 and 3 is: -1\n",
      "The mul of 2 and 3 is: 6\n",
      "The div of 2 over 3 is: 0.6666666666666666\n",
      "The Reminder of 2 over 3 is: 2\n",
      "The Exponent of 2 to the power of 3 is: 8\n"
     ]
    }
   ],
   "source": [
    "\n",
    "name=input(\"Enter your name :\")\n",
    "num1=input(\"Enter first number :\")\n",
    "num2=input(\"Enter second number :\")\n",
    "print( \"Hi Mr/Mrs \",name)\n",
    "print(\"The sum of \",num1,\"and \",num2,\"is:\",int(num1)+int(num2))\n",
    "print(\"The sub of\",num1,\"and\",num2,\"is:\",int(num1)-int(num2))\n",
    "print(\"The mul of\",num1,\"and\",num2,\"is:\",int(num1)*int(num2))\n",
    "print(\"The div of\",num1,\"over\",num2,\"is:\",int(num1)/int(num2))\n",
    "print(\"The Reminder of\",num1,\"over\",num2,\"is:\",int(num1)%int(num2))\n",
    "print(\"The Exponent of\",num1,\"to the power of\",num2,\"is:\",int(num1)**int(num2))\n",
    "\n",
    "\n"
   ]
  },
  {
   "cell_type": "code",
   "execution_count": null,
   "metadata": {},
   "outputs": [],
   "source": []
  },
  {
   "cell_type": "code",
   "execution_count": null,
   "metadata": {},
   "outputs": [],
   "source": []
  }
 ],
 "metadata": {
  "kernelspec": {
   "display_name": "Python 3",
   "language": "python",
   "name": "python3"
  },
  "language_info": {
   "codemirror_mode": {
    "name": "ipython",
    "version": 3
   },
   "file_extension": ".py",
   "mimetype": "text/x-python",
   "name": "python",
   "nbconvert_exporter": "python",
   "pygments_lexer": "ipython3",
   "version": "3.7.0"
  }
 },
 "nbformat": 4,
 "nbformat_minor": 2
}
